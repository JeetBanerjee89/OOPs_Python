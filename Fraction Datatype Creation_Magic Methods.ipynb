{
  "nbformat": 4,
  "nbformat_minor": 0,
  "metadata": {
    "colab": {
      "provenance": []
    },
    "kernelspec": {
      "name": "python3",
      "display_name": "Python 3"
    },
    "language_info": {
      "name": "python"
    }
  },
  "cells": [
    {
      "cell_type": "code",
      "execution_count": 1,
      "metadata": {
        "colab": {
          "base_uri": "https://localhost:8080/"
        },
        "id": "ie2mvElAAppI",
        "outputId": "744e0ebb-ad66-4827-fa08-2a321ff96c18"
      },
      "outputs": [
        {
          "output_type": "stream",
          "name": "stdout",
          "text": [
            "1st Fraction: 2/3\n",
            "2nd Fraction: 1/5\n",
            "--------------------------------------------------\n",
            "2/3 + 1/5 = 13/15\n",
            "2/3 - 1/5 = 7/15\n",
            "2/3 * 1/5 = 2/15\n",
            "2/3 / 1/5 = 10/3\n"
          ]
        }
      ],
      "source": [
        "#defining class\n",
        "class Fraction:\n",
        "\n",
        "  #parameterized '__init__' constructor\n",
        "  def __init__(self,x,y):\n",
        "    self.num = x\n",
        "    self.den = y\n",
        "\n",
        "  #auto-calling '__add__' constructor for '+' operand b/w objects\n",
        "  def __add__(self,other):\n",
        "    new_num = self.num*other.den + other.num*self.den\n",
        "    new_den = self.den*other.den\n",
        "\n",
        "    return '{}/{}'.format(new_num,new_den)\n",
        "\n",
        "  #auto-calling '__sub__' constructor for '-' operand b/w objects\n",
        "  def __sub__(self,other):\n",
        "    new_num = self.num*other.den - other.num*self.den\n",
        "    new_den = self.den*other.den\n",
        "\n",
        "    return '{}/{}'.format(new_num,new_den)\n",
        "\n",
        "  #auto-calling '__mul__' constructor for '*' operand b/w objects\n",
        "  def __mul__(self,other):\n",
        "    new_num = self.num*other.num\n",
        "    new_den = self.den*other.den\n",
        "\n",
        "    return '{}/{}'.format(new_num,new_den)\n",
        "\n",
        "  #auto-calling '__truediv__' constructor for '/' operand b/w objects\n",
        "  def __truediv__(self,other):\n",
        "    new_num = self.num*other.den\n",
        "    new_den = self.den*other.num\n",
        "\n",
        "    return '{}/{}'.format(new_num,new_den)\n",
        "\n",
        "#objects of 'Fraction' class\n",
        "fr1 = Fraction(2,3)\n",
        "fr2 = Fraction(1,5)\n",
        "\n",
        "#printing i/p fractions\n",
        "print(f\"1st Fraction: {'{}/{}'.format(fr1.num,fr1.den)}\")\n",
        "print(f\"2nd Fraction: {'{}/{}'.format(fr2.num,fr2.den)}\")\n",
        "print('-'*50)\n",
        "\n",
        "#executing 'addition', 'substraction', 'multiplication' and 'division' operations\n",
        "print(f\"{'{}/{}'.format(fr1.num,fr1.den)} + {'{}/{}'.format(fr2.num,fr2.den)} = {fr1 + fr2}\")\n",
        "print(f\"{'{}/{}'.format(fr1.num,fr1.den)} - {'{}/{}'.format(fr2.num,fr2.den)} = {fr1 - fr2}\")\n",
        "print(f\"{'{}/{}'.format(fr1.num,fr1.den)} * {'{}/{}'.format(fr2.num,fr2.den)} = {fr1 * fr2}\")\n",
        "print(f\"{'{}/{}'.format(fr1.num,fr1.den)} / {'{}/{}'.format(fr2.num,fr2.den)} = {fr1 / fr2}\")"
      ]
    },
    {
      "cell_type": "code",
      "source": [],
      "metadata": {
        "id": "zueTCHSMA1Jy"
      },
      "execution_count": null,
      "outputs": []
    }
  ]
}